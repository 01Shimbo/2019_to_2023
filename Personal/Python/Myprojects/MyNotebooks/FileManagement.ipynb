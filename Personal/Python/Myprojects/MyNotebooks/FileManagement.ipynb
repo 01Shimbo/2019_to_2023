{
 "cells": [
  {
   "cell_type": "markdown",
   "metadata": {},
   "source": [
    "# File Management"
   ]
  },
  {
   "cell_type": "code",
   "execution_count": null,
   "metadata": {},
   "outputs": [],
   "source": [
    "import glob, os "
   ]
  },
  {
   "cell_type": "code",
   "execution_count": 5,
   "metadata": {},
   "outputs": [
    {
     "ename": "TypeError",
     "evalue": "'module' object is not callable",
     "output_type": "error",
     "traceback": [
      "\u001b[1;31m---------------------------------------------------------------------------\u001b[0m",
      "\u001b[1;31mTypeError\u001b[0m                                 Traceback (most recent call last)",
      "Cell \u001b[1;32mIn [5], line 7\u001b[0m\n\u001b[0;32m      1\u001b[0m \u001b[39m'''\u001b[39;00m\n\u001b[0;32m      2\u001b[0m \u001b[39musing os.path.join is much more consistant than \u001b[39;00m\n\u001b[0;32m      3\u001b[0m \u001b[39musing double backslash puls works accross differnt OS\u001b[39;00m\n\u001b[0;32m      4\u001b[0m \u001b[39m    \u001b[39;00m\n\u001b[0;32m      5\u001b[0m \u001b[39m'''\u001b[39;00m\n\u001b[0;32m      6\u001b[0m \u001b[39m# import glob, os \u001b[39;00m\n\u001b[1;32m----> 7\u001b[0m path \u001b[39m=\u001b[39m os\u001b[39m.\u001b[39;49mpath (\u001b[39m'\u001b[39;49m\u001b[39mC:\u001b[39;49m\u001b[39m'\u001b[39;49m,\u001b[39m'\u001b[39;49m\u001b[39mUsers\u001b[39;49m\u001b[39m'\u001b[39;49m, \u001b[39m'\u001b[39;49m\u001b[39mShane\u001b[39;49m\u001b[39m'\u001b[39;49m, \u001b[39m'\u001b[39;49m\u001b[39mOneDrive\u001b[39;49m\u001b[39m'\u001b[39;49m, \u001b[39m'\u001b[39;49m\u001b[39mPictures\u001b[39;49m\u001b[39m'\u001b[39;49m, \u001b[39m'\u001b[39;49m\u001b[39mSaved Pictures\u001b[39;49m\u001b[39m'\u001b[39;49m)\n\u001b[0;32m      8\u001b[0m \u001b[39m# isExist = os.path.exists(path)\u001b[39;00m\n\u001b[0;32m      9\u001b[0m \u001b[39m# print(path)\u001b[39;00m\n\u001b[0;32m     10\u001b[0m newpath \u001b[39m=\u001b[39m os\u001b[39m.\u001b[39mpath\u001b[39m.\u001b[39mjoin (path, \u001b[39m'\u001b[39m\u001b[39meditedLylaSecret\u001b[39m\u001b[39m'\u001b[39m)\n",
      "\u001b[1;31mTypeError\u001b[0m: 'module' object is not callable"
     ]
    }
   ],
   "source": [
    "'''\n",
    "using os.path.join is much more consistant than \n",
    "using double backslash puls works accross differnt OS\n",
    "    \n",
    "'''\n",
    "path = os.path ('C:','Users', 'Shane', 'OneDrive', 'Pictures', 'Saved Pictures')\n",
    "# isExist = os.path.exists(path)\n",
    "# print(path)\n",
    "newpath = os.path.join (path, 'editedLylaSecret')\n",
    "# os.makedirs(newpath)\n",
    "newisExist = os.path.exists(newpath)\n",
    "# print(newisExist)\n"
   ]
  },
  {
   "cell_type": "code",
   "execution_count": 6,
   "metadata": {},
   "outputs": [
    {
     "name": "stdout",
     "output_type": "stream",
     "text": [
      "C:\\Users\\Shane\\Documents\n",
      "True\n"
     ]
    }
   ],
   "source": [
    "'''\n",
    "using os.path.expanduser('~') will get users home dir\n",
    "'''\n",
    "# usrpath = os.path.expanduser('~')\n",
    "docpath = os.path.join (os.path.expanduser('~'), 'Documents')\n",
    "docpathExist = os.path.exists(docpath)\n",
    "print(docpath)\n",
    "print (docpathExist)\n"
   ]
  },
  {
   "cell_type": "code",
   "execution_count": 8,
   "metadata": {},
   "outputs": [
    {
     "name": "stdout",
     "output_type": "stream",
     "text": [
      "C:\\$GetCurrent\n",
      "C:\\$Recycle.Bin\n",
      "C:\\$Windows.~WS\n",
      "C:\\$WinREAgent\n",
      "C:\\bootTel.dat\n",
      "C:\\Documents and Settings\n",
      "C:\\DumpStack.log\n",
      "C:\\DumpStack.log.tmp\n",
      "C:\\ESD\n",
      "C:\\hiberfil.sys\n",
      "C:\\inetpub\n",
      "C:\\OneDriveTemp\n",
      "C:\\pagefile.sys\n",
      "C:\\PerfLogs\n",
      "C:\\Program Files\n",
      "C:\\Program Files (x86)\n",
      "C:\\ProgramData\n",
      "C:\\Python310\n",
      "C:\\Recovery\n",
      "C:\\swapfile.sys\n",
      "C:\\System Volume Information\n",
      "C:\\Users\n",
      "C:\\Windows\n",
      "C:\\Windows.old\n"
     ]
    }
   ],
   "source": [
    "'''\n",
    "using glob.glob allows for wildcards\n",
    "'''\n",
    "for name in glob.glob('C:\\Users*'):\n",
    "    print(name)"
   ]
  }
 ],
 "metadata": {
  "kernelspec": {
   "display_name": "Python 3.10.8 64-bit (microsoft store)",
   "language": "python",
   "name": "python3"
  },
  "language_info": {
   "codemirror_mode": {
    "name": "ipython",
    "version": 3
   },
   "file_extension": ".py",
   "mimetype": "text/x-python",
   "name": "python",
   "nbconvert_exporter": "python",
   "pygments_lexer": "ipython3",
   "version": "3.10.8"
  },
  "orig_nbformat": 4,
  "vscode": {
   "interpreter": {
    "hash": "217f5e3fc8da09929d466d29bd6a4ad0ed10e55d5392d9e1a1e9a6df3f64c9b5"
   }
  }
 },
 "nbformat": 4,
 "nbformat_minor": 2
}
