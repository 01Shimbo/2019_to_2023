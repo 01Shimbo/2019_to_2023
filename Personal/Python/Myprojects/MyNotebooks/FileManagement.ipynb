{
 "cells": [
  {
   "cell_type": "markdown",
   "metadata": {},
   "source": [
    "# File Management"
   ]
  },
  {
   "cell_type": "code",
   "execution_count": null,
   "metadata": {},
   "outputs": [],
   "source": [
    "import glob, os "
   ]
  },
  {
   "cell_type": "markdown",
   "metadata": {},
   "source": [
    "using os.path.join is much more consistant than\n",
    " \n",
    "using double backslash puls works accross differnt OS"
   ]
  },
  {
   "cell_type": "code",
   "execution_count": 24,
   "metadata": {},
   "outputs": [
    {
     "name": "stdout",
     "output_type": "stream",
     "text": [
      "True\n"
     ]
    }
   ],
   "source": [
    "home = os.path.expanduser('~')\n",
    "path = os.path.join (home, 'OneDrive', 'Pictures', 'Saved Pictures')\n",
    "# isExist = os.path.exists(path)\n",
    "# print(path)\n",
    "newpath = os.path.join (path, 'editedLylaSecret')\n",
    "os.makedirs(newpath)\n",
    "newisExist = os.path.exists(newpath)\n",
    "print(newisExist)\n"
   ]
  },
  {
   "cell_type": "markdown",
   "metadata": {},
   "source": [
    "using os.path.expanduser('~') will get users home dir"
   ]
  },
  {
   "cell_type": "code",
   "execution_count": 6,
   "metadata": {},
   "outputs": [
    {
     "name": "stdout",
     "output_type": "stream",
     "text": [
      "C:\\Users\\Shane\\Documents\n",
      "True\n"
     ]
    }
   ],
   "source": [
    "# usrpath = os.path.expanduser('~')\n",
    "docpath = os.path.join (os.path.expanduser('~'), 'Documents')\n",
    "docpathExist = os.path.exists(docpath)\n",
    "print(docpath)\n",
    "print (docpathExist)\n"
   ]
  },
  {
   "cell_type": "markdown",
   "metadata": {},
   "source": [
    "glob.glob allows for wild cards"
   ]
  },
  {
   "cell_type": "code",
   "execution_count": 18,
   "metadata": {},
   "outputs": [
    {
     "name": "stdout",
     "output_type": "stream",
     "text": [
      "..\\MyNotebooks\n",
      "..\\Pandas\n",
      "..\\Photoediter\n"
     ]
    }
   ],
   "source": [
    "for name in glob.glob('../*'):\n",
    "    print(name)"
   ]
  }
 ],
 "metadata": {
  "kernelspec": {
   "display_name": "Python 3.10.8 64-bit (microsoft store)",
   "language": "python",
   "name": "python3"
  },
  "language_info": {
   "codemirror_mode": {
    "name": "ipython",
    "version": 3
   },
   "file_extension": ".py",
   "mimetype": "text/x-python",
   "name": "python",
   "nbconvert_exporter": "python",
   "pygments_lexer": "ipython3",
   "version": "3.10.8"
  },
  "orig_nbformat": 4,
  "vscode": {
   "interpreter": {
    "hash": "217f5e3fc8da09929d466d29bd6a4ad0ed10e55d5392d9e1a1e9a6df3f64c9b5"
   }
  }
 },
 "nbformat": 4,
 "nbformat_minor": 2
}
