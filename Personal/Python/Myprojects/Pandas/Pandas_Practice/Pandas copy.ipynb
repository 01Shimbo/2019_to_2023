{
 "cells": [
  {
   "cell_type": "markdown",
   "metadata": {},
   "source": [
    "# Pandas"
   ]
  },
  {
   "cell_type": "code",
   "execution_count": 41,
   "metadata": {},
   "outputs": [],
   "source": [
    "import pandas as pd"
   ]
  },
  {
   "cell_type": "code",
   "execution_count": 42,
   "metadata": {},
   "outputs": [],
   "source": [
    "df = pd.read_csv('Miscellaneous Costs.csv')\n",
    "df = df.drop(columns=['ExpenseName', 'Unnamed: 8','Unnamed: 9'], axis=1)\n",
    "df = df.dropna(how = 'all')"
   ]
  },
  {
   "cell_type": "code",
   "execution_count": 43,
   "metadata": {},
   "outputs": [
    {
     "data": {
      "text/plain": [
       "stateAbbrev          object\n",
       "stateFIPS           float64\n",
       "countyortownName     object\n",
       "numadults           float64\n",
       "numkids             float64\n",
       "yearofdata          float64\n",
       "expense.misc         object\n",
       "dtype: object"
      ]
     },
     "execution_count": 43,
     "metadata": {},
     "output_type": "execute_result"
    }
   ],
   "source": [
    "df.dtypes"
   ]
  },
  {
   "cell_type": "code",
   "execution_count": 44,
   "metadata": {},
   "outputs": [],
   "source": [
    "df = df.replace(',','', regex=True)\n",
    "\n",
    "convert_dict = {'stateAbbrev': str,\n",
    "                'stateFIPS': str,\n",
    "                'countyortownName': str,\n",
    "                'numadults':str,\n",
    "                'numkids':str,\n",
    "                'yearofdata':str,\n",
    "                'expense.misc': float,\n",
    "                }\n",
    "df = df.astype(convert_dict)"
   ]
  },
  {
   "cell_type": "code",
   "execution_count": 45,
   "metadata": {},
   "outputs": [
    {
     "data": {
      "text/plain": [
       "stateAbbrev          object\n",
       "stateFIPS            object\n",
       "countyortownName     object\n",
       "numadults            object\n",
       "numkids              object\n",
       "yearofdata           object\n",
       "expense.misc        float64\n",
       "dtype: object"
      ]
     },
     "execution_count": 45,
     "metadata": {},
     "output_type": "execute_result"
    }
   ],
   "source": [
    "df.dtypes"
   ]
  },
  {
   "cell_type": "code",
   "execution_count": 46,
   "metadata": {},
   "outputs": [
    {
     "data": {
      "text/html": [
       "<div>\n",
       "<style scoped>\n",
       "    .dataframe tbody tr th:only-of-type {\n",
       "        vertical-align: middle;\n",
       "    }\n",
       "\n",
       "    .dataframe tbody tr th {\n",
       "        vertical-align: top;\n",
       "    }\n",
       "\n",
       "    .dataframe thead th {\n",
       "        text-align: right;\n",
       "    }\n",
       "</style>\n",
       "<table border=\"1\" class=\"dataframe\">\n",
       "  <thead>\n",
       "    <tr style=\"text-align: right;\">\n",
       "      <th></th>\n",
       "      <th>stateAbbrev</th>\n",
       "      <th>stateFIPS</th>\n",
       "      <th>countyortownName</th>\n",
       "      <th>numadults</th>\n",
       "      <th>numkids</th>\n",
       "      <th>yearofdata</th>\n",
       "      <th>expense.misc</th>\n",
       "    </tr>\n",
       "  </thead>\n",
       "  <tbody>\n",
       "    <tr>\n",
       "      <th>0</th>\n",
       "      <td>AL</td>\n",
       "      <td>1.0</td>\n",
       "      <td>Autauga County</td>\n",
       "      <td>1.0</td>\n",
       "      <td>0.0</td>\n",
       "      <td>2020.0</td>\n",
       "      <td>1714.0</td>\n",
       "    </tr>\n",
       "    <tr>\n",
       "      <th>1</th>\n",
       "      <td>AL</td>\n",
       "      <td>1.0</td>\n",
       "      <td>Autauga County</td>\n",
       "      <td>1.0</td>\n",
       "      <td>1.0</td>\n",
       "      <td>2020.0</td>\n",
       "      <td>2946.0</td>\n",
       "    </tr>\n",
       "    <tr>\n",
       "      <th>2</th>\n",
       "      <td>AL</td>\n",
       "      <td>1.0</td>\n",
       "      <td>Autauga County</td>\n",
       "      <td>1.0</td>\n",
       "      <td>2.0</td>\n",
       "      <td>2020.0</td>\n",
       "      <td>3629.0</td>\n",
       "    </tr>\n",
       "    <tr>\n",
       "      <th>3</th>\n",
       "      <td>AL</td>\n",
       "      <td>1.0</td>\n",
       "      <td>Autauga County</td>\n",
       "      <td>1.0</td>\n",
       "      <td>3.0</td>\n",
       "      <td>2020.0</td>\n",
       "      <td>4547.0</td>\n",
       "    </tr>\n",
       "    <tr>\n",
       "      <th>4</th>\n",
       "      <td>AL</td>\n",
       "      <td>1.0</td>\n",
       "      <td>Autauga County</td>\n",
       "      <td>1.0</td>\n",
       "      <td>4.0</td>\n",
       "      <td>2020.0</td>\n",
       "      <td>5185.0</td>\n",
       "    </tr>\n",
       "    <tr>\n",
       "      <th>...</th>\n",
       "      <td>...</td>\n",
       "      <td>...</td>\n",
       "      <td>...</td>\n",
       "      <td>...</td>\n",
       "      <td>...</td>\n",
       "      <td>...</td>\n",
       "      <td>...</td>\n",
       "    </tr>\n",
       "    <tr>\n",
       "      <th>38155</th>\n",
       "      <td>WY</td>\n",
       "      <td>56.0</td>\n",
       "      <td>state.average</td>\n",
       "      <td>3.0</td>\n",
       "      <td>0.0</td>\n",
       "      <td>2020.0</td>\n",
       "      <td>3326.0</td>\n",
       "    </tr>\n",
       "    <tr>\n",
       "      <th>38156</th>\n",
       "      <td>WY</td>\n",
       "      <td>56.0</td>\n",
       "      <td>state.average</td>\n",
       "      <td>3.0</td>\n",
       "      <td>1.0</td>\n",
       "      <td>2020.0</td>\n",
       "      <td>4538.0</td>\n",
       "    </tr>\n",
       "    <tr>\n",
       "      <th>38157</th>\n",
       "      <td>WY</td>\n",
       "      <td>56.0</td>\n",
       "      <td>state.average</td>\n",
       "      <td>3.0</td>\n",
       "      <td>2.0</td>\n",
       "      <td>2020.0</td>\n",
       "      <td>5318.0</td>\n",
       "    </tr>\n",
       "    <tr>\n",
       "      <th>38158</th>\n",
       "      <td>WY</td>\n",
       "      <td>56.0</td>\n",
       "      <td>state.average</td>\n",
       "      <td>3.0</td>\n",
       "      <td>3.0</td>\n",
       "      <td>2020.0</td>\n",
       "      <td>6478.0</td>\n",
       "    </tr>\n",
       "    <tr>\n",
       "      <th>38159</th>\n",
       "      <td>WY</td>\n",
       "      <td>56.0</td>\n",
       "      <td>state.average</td>\n",
       "      <td>3.0</td>\n",
       "      <td>4.0</td>\n",
       "      <td>2020.0</td>\n",
       "      <td>7224.0</td>\n",
       "    </tr>\n",
       "  </tbody>\n",
       "</table>\n",
       "<p>38160 rows × 7 columns</p>\n",
       "</div>"
      ],
      "text/plain": [
       "      stateAbbrev stateFIPS countyortownName numadults numkids yearofdata  \\\n",
       "0              AL       1.0   Autauga County       1.0     0.0     2020.0   \n",
       "1              AL       1.0   Autauga County       1.0     1.0     2020.0   \n",
       "2              AL       1.0   Autauga County       1.0     2.0     2020.0   \n",
       "3              AL       1.0   Autauga County       1.0     3.0     2020.0   \n",
       "4              AL       1.0   Autauga County       1.0     4.0     2020.0   \n",
       "...           ...       ...              ...       ...     ...        ...   \n",
       "38155          WY      56.0    state.average       3.0     0.0     2020.0   \n",
       "38156          WY      56.0    state.average       3.0     1.0     2020.0   \n",
       "38157          WY      56.0    state.average       3.0     2.0     2020.0   \n",
       "38158          WY      56.0    state.average       3.0     3.0     2020.0   \n",
       "38159          WY      56.0    state.average       3.0     4.0     2020.0   \n",
       "\n",
       "       expense.misc  \n",
       "0            1714.0  \n",
       "1            2946.0  \n",
       "2            3629.0  \n",
       "3            4547.0  \n",
       "4            5185.0  \n",
       "...             ...  \n",
       "38155        3326.0  \n",
       "38156        4538.0  \n",
       "38157        5318.0  \n",
       "38158        6478.0  \n",
       "38159        7224.0  \n",
       "\n",
       "[38160 rows x 7 columns]"
      ]
     },
     "execution_count": 46,
     "metadata": {},
     "output_type": "execute_result"
    }
   ],
   "source": [
    "df"
   ]
  }
 ],
 "metadata": {
  "kernelspec": {
   "display_name": "Python 3.10.8 64-bit (microsoft store)",
   "language": "python",
   "name": "python3"
  },
  "language_info": {
   "codemirror_mode": {
    "name": "ipython",
    "version": 3
   },
   "file_extension": ".py",
   "mimetype": "text/x-python",
   "name": "python",
   "nbconvert_exporter": "python",
   "pygments_lexer": "ipython3",
   "version": "3.10.10"
  },
  "orig_nbformat": 4,
  "vscode": {
   "interpreter": {
    "hash": "217f5e3fc8da09929d466d29bd6a4ad0ed10e55d5392d9e1a1e9a6df3f64c9b5"
   }
  }
 },
 "nbformat": 4,
 "nbformat_minor": 2
}
